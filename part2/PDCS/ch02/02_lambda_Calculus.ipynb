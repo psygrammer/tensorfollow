{
 "cells": [
  {
   "cell_type": "markdown",
   "metadata": {},
   "source": [
    "# 2. λ Calculus"
   ]
  },
  {
   "cell_type": "markdown",
   "metadata": {},
   "source": [
    "* 싸이그래머 / 텐서팔로우 - 분산알고리즘 [1]\n",
    "* 김무성"
   ]
  },
  {
   "cell_type": "markdown",
   "metadata": {},
   "source": [
    "# Contents\n",
    "* 2.1 Syntax and Semantics\n",
    "* 2.2 Free and Bound Variables in the λ Calculus\n",
    "* 2.3 Order of Evaluation\n",
    "* 2.4 Combinators\n",
    "* 2.5 Currying\n",
    "* 2.6 η-Conversion\n",
    "* 2.7 Sequencing Combinator\n",
    "* 2.8 Recursion Combinator\n",
    "* 2.9 Higher-Order Programming\n",
    "    - 2.9.1 Currying as a Higher-Order Function\n",
    "    - 2.9.2 Numbers in the λ Calculus\n",
    "    - 2.9.3 Booleans in the λ Calculus"
   ]
  },
  {
   "cell_type": "markdown",
   "metadata": {},
   "source": [
    "# 참고자료 \n",
    "* [2] (slideshare) Lambda calculus (by Diego Mendonça) - http://www.slideshare.net/DiegoMendona3/lambda-calculus-29802319\n",
    "* [3] (slideshare) Lambda calculus (by Mahsa Seifikar) - http://www.slideshare.net/MahsaSeifikar/lambda-calculus-57240548"
   ]
  },
  {
   "cell_type": "markdown",
   "metadata": {},
   "source": [
    "####  λ (lambda) calculus "
   ]
  },
  {
   "cell_type": "markdown",
   "metadata": {},
   "source": [
    "* The λ (lambda) calculus created by Church and Kleene in the 1930s (Church, 1941) is at the heart of functional programming languages. \n",
    "* We will use it as a foundation for sequential computation. \n",
    "* The λ calculus is Turing-complete; that is, any computable function can be expressed and evaluated using the calculus. \n",
    "* The λ calculus is useful to study programming language concepts because of its high level of abstraction."
   ]
  },
  {
   "cell_type": "markdown",
   "metadata": {},
   "source": [
    "# 2.1 Syntax and Semantics"
   ]
  },
  {
   "cell_type": "markdown",
   "metadata": {},
   "source": [
    "#### function "
   ]
  },
  {
   "cell_type": "markdown",
   "metadata": {},
   "source": [
    "$f(x)=x^2$, $f:Z→Z$"
   ]
  },
  {
   "cell_type": "markdown",
   "metadata": {},
   "source": [
    "#### domain"
   ]
  },
  {
   "cell_type": "markdown",
   "metadata": {},
   "source": [
    "* The first Z represents the domain of the function, or the set of values x can take. We denote it as dom( f ) = Z."
   ]
  },
  {
   "cell_type": "markdown",
   "metadata": {},
   "source": [
    "#### range "
   ]
  },
  {
   "cell_type": "markdown",
   "metadata": {},
   "source": [
    "The second Z represents the range of the function, or the set containing all possible values of f (x). We denote it as ran( f ) = Z. "
   ]
  },
  {
   "cell_type": "markdown",
   "metadata": {},
   "source": [
    "#### type"
   ]
  },
  {
   "cell_type": "markdown",
   "metadata": {},
   "source": [
    "* In programming languages, we call Z → Z, the type of the function f . \n",
    "* The type of a function defines what kinds of values the function can receive and what kinds of values it produces as output."
   ]
  },
  {
   "cell_type": "markdown",
   "metadata": {},
   "source": [
    "#### function composition"
   ]
  },
  {
   "cell_type": "markdown",
   "metadata": {},
   "source": [
    "Suppose $f(x) = x^2$ and $g(x) = x + 1$. \n",
    "\n",
    "Traditional function composition is defined as:"
   ]
  },
  {
   "cell_type": "markdown",
   "metadata": {},
   "source": [
    "$(f ◦ g)(x) = f (g(x))$ ."
   ]
  },
  {
   "cell_type": "markdown",
   "metadata": {},
   "source": [
    "With our functions f and g,\n",
    "\n",
    "$(f ◦ g)(x)$ = $f(g(x))$ = $f(x + 1)$ = $x^2 + 2x + 1$."
   ]
  },
  {
   "cell_type": "markdown",
   "metadata": {},
   "source": [
    "Similarly, \n",
    "\n",
    "$(g◦f)(x)$ = $g(f(x))$ = $g(x^2)$= $x^2 +1$."
   ]
  },
  {
   "cell_type": "markdown",
   "metadata": {},
   "source": [
    "Therefore, function composition is <font color=\"red\">not commutative</font>"
   ]
  },
  {
   "cell_type": "markdown",
   "metadata": {},
   "source": [
    "#### λ calculus"
   ]
  },
  {
   "cell_type": "markdown",
   "metadata": {},
   "source": [
    "To define a function $f(x) = x^2$ , we instead may write:\n",
    "\n",
    "$λx.x^2$ "
   ]
  },
  {
   "cell_type": "markdown",
   "metadata": {},
   "source": [
    "Similarly, for $g(x) = x + 1$, we write:\n",
    "    \n",
    "$λx.x + 1$"
   ]
  },
  {
   "cell_type": "markdown",
   "metadata": {},
   "source": [
    "##### function application"
   ]
  },
  {
   "cell_type": "markdown",
   "metadata": {},
   "source": [
    "To describe a function application such as $f(2) = 4$, we write:\n",
    "\n",
    "$(λx.x^2\\ 2)$ ⇒ $2^2$ ⇒ $4$."
   ]
  },
  {
   "cell_type": "markdown",
   "metadata": {},
   "source": [
    "<img src=\"figures/cap2.2.png\" width=600 />"
   ]
  },
  {
   "cell_type": "markdown",
   "metadata": {},
   "source": [
    "#### The syntax for λ calculus expressions"
   ]
  },
  {
   "cell_type": "markdown",
   "metadata": {},
   "source": [
    "<img src=\"figures/cap2.1.png\" width=600 />"
   ]
  },
  {
   "cell_type": "markdown",
   "metadata": {},
   "source": [
    "#### β-reduction (beta-reduction)"
   ]
  },
  {
   "cell_type": "markdown",
   "metadata": {},
   "source": [
    "The semantics of the λ calculus, or the way of evaluating or simplifying ex- pressions, is defined by the β-reduction (beta-reduction) rule:\n",
    "\n",
    "$(λx.E$ $M)$ ⇒ $E\\{M/x\\}$."
   ]
  },
  {
   "cell_type": "markdown",
   "metadata": {},
   "source": [
    "#### replace free variable"
   ]
  },
  {
   "cell_type": "markdown",
   "metadata": {},
   "source": [
    "* The new expression E{M/x} can be read as “replace ‘free’ x’s in E with M.” \n",
    "* Informally, a “free” x is an x that is not nested inside another lambda expression."
   ]
  },
  {
   "cell_type": "markdown",
   "metadata": {},
   "source": [
    "#### currying"
   ]
  },
  {
   "cell_type": "markdown",
   "metadata": {},
   "source": [
    "* In the λ calculus, all functions may only have one variable. \n",
    "* Functions with more than one variable may be expressed as a function of one variable through currying."
   ]
  },
  {
   "cell_type": "markdown",
   "metadata": {},
   "source": [
    "#### composition operation as higher-order function"
   ]
  },
  {
   "cell_type": "markdown",
   "metadata": {},
   "source": [
    "The composition operation $◦$ can itself be considered a function, also called a higher-order function, that takes two other functions as its input and returns a function as its output; that is, if the first function is of type Z → Z and the second function is also of type Z → Z, then\n",
    "\n",
    "$◦$ : (Z → Z) × (Z → Z) → (Z → Z)."
   ]
  },
  {
   "cell_type": "markdown",
   "metadata": {},
   "source": [
    "# 2.2 Free and Bound Variables in the λ Calculus"
   ]
  },
  {
   "cell_type": "markdown",
   "metadata": {},
   "source": [
    "#### redex (for reducible expression)"
   ]
  },
  {
   "cell_type": "markdown",
   "metadata": {},
   "source": [
    "The process of simplifying (or β-reducing) in the λ calculus requires further clarification. The general rule is to find an expression of the form\n",
    "\n",
    "(λx.E M),\n",
    "\n",
    "called a redex (for reducible expression), and replace the “free” x’s in E with M’s."
   ]
  },
  {
   "cell_type": "markdown",
   "metadata": {},
   "source": [
    "#### free variable"
   ]
  },
  {
   "cell_type": "markdown",
   "metadata": {},
   "source": [
    "A free variable is one that is not bound by a lambda expression representing a functional abstraction. "
   ]
  },
  {
   "cell_type": "markdown",
   "metadata": {},
   "source": [
    "#### functional abstraction & scope & bind"
   ]
  },
  {
   "cell_type": "markdown",
   "metadata": {},
   "source": [
    "The functional abstraction syntax, λv.e, \n",
    "\n",
    "defines the scope of the variable v to be e, \n",
    "\n",
    "and effectively binds occurrences of v in e."
   ]
  },
  {
   "cell_type": "markdown",
   "metadata": {},
   "source": [
    "##### For example, in the expression\n",
    "(λx.$x^2$ x + 1)\n",
    "\n",
    "the x in $x^2$ is bound by the λx, \n",
    "* because it is part of the expression defining that function, i.e., the function f(x) = $x^2$. \n",
    "\n",
    "The final x, \n",
    "* however, is not bound by any function definition, \n",
    "* so it is said to be free. "
   ]
  },
  {
   "cell_type": "markdown",
   "metadata": {},
   "source": [
    "##### C program example"
   ]
  },
  {
   "cell_type": "code",
   "execution_count": null,
   "metadata": {
    "collapsed": true
   },
   "outputs": [],
   "source": [
    "int f(int x) {\n",
    "  return x*x;\n",
    "}\n",
    "\n",
    "int main() {\n",
    "  int x;\n",
    "  ...\n",
    "  x = x + 1;\n",
    "  return f(x);\n",
    "}"
   ]
  },
  {
   "cell_type": "markdown",
   "metadata": {},
   "source": [
    "In the same way, the lambda expression\n",
    "\n",
    "(λx.$x^2$ x + 1)\n",
    "\n",
    "is equivalent to the expression \n",
    "\n",
    "(λy.$y^2$ x + 1).\n",
    "\n",
    "We cannot replace the final x, since it is unbound, or free."
   ]
  },
  {
   "cell_type": "markdown",
   "metadata": {},
   "source": [
    "#### α-renaming (alpha-renaming)"
   ]
  },
  {
   "cell_type": "markdown",
   "metadata": {},
   "source": [
    "For example, in the statement\n",
    "\n",
    "(λx.λy.(x y) (y w)),\n",
    "\n",
    "the y in (x y) is bound to λy where as the final y is free.\n",
    "\n",
    "Taking \n",
    "\n",
    "E=λy.(x y)\n",
    "\n",
    "and\n",
    "\n",
    "M = (y w), \n",
    "\n",
    "we could mistakenly arrive at the simplified expression \n",
    "\n",
    "λy.((y w) y).\n",
    "\n",
    "But now both occurrences of y are bound, because they are both a part of the functional abstraction starting by λy. This is wrong, because one of the y occurrences should remain free, as it was in the original expression. \n",
    "\n",
    "To solve this problem, we can change the λy expression to a λz expression:\n",
    "\n",
    "(λx.λz.(x z) (y w)),\n",
    "\n",
    "which again does not change the meaning of the expression. \n",
    "\n",
    "<font color=\"red\">This process is called α-renaming (alpha-renaming)</font>. \n",
    "\n",
    "Now when we perform the β-reduction, the original two y variable occurrences are not confused. The result is\n",
    "\n",
    "λz.((y w) z),\n",
    "\n",
    "where the free y remains free."
   ]
  },
  {
   "cell_type": "markdown",
   "metadata": {},
   "source": [
    "# 2.3 Order of Evaluation"
   ]
  },
  {
   "cell_type": "markdown",
   "metadata": {},
   "source": [
    "#### applicative order"
   ]
  },
  {
   "cell_type": "markdown",
   "metadata": {},
   "source": [
    "There are different ways to evaluate λ calculus expressions. The first method is always to fully evaluate the arguments of a function before evaluating the function itself. This order is called applicative order."
   ]
  },
  {
   "cell_type": "markdown",
   "metadata": {},
   "source": [
    "(λx.$x^2$ (λx.x+1 2)),\n",
    "\n",
    "the argument (λx.x+1 2) should be evaluated first. \n",
    "\n",
    "The result is \n",
    "\n",
    "⇒(λx.$x^2$ 2+1)⇒(λx.$x^2$ 3)⇒$3^2$ ⇒9."
   ]
  },
  {
   "cell_type": "markdown",
   "metadata": {},
   "source": [
    "#### normal order"
   ]
  },
  {
   "cell_type": "markdown",
   "metadata": {},
   "source": [
    "Another method is to evaluate the left-most redex first. Recall that a redex is an expression of the form (λx.E M), on which β-reduction can be performed. This order is called normal order. "
   ]
  },
  {
   "cell_type": "markdown",
   "metadata": {},
   "source": [
    "E = $x^2$ and M = (λx.x+1 2). \n",
    "\n",
    "In this case the result is\n",
    "\n",
    "⇒ (λx.x+1 2$)^2$ ⇒ (2+1$)^2$ ⇒ 9."
   ]
  },
  {
   "cell_type": "markdown",
   "metadata": {},
   "source": [
    "<font color=\"red\">As you can see, both orders produced the same result. But is this always the case?</font>"
   ]
  },
  {
   "cell_type": "markdown",
   "metadata": {},
   "source": [
    "#### The Church-Rosser theorem"
   ]
  },
  {
   "cell_type": "markdown",
   "metadata": {},
   "source": [
    "The Church-Rosser theorem (also called the confluence property or the diamond property) states that if a λ calculus expression can be evaluated in two different ways and both ways terminate, both ways will yield the same result (Church and Rosser, 1936)."
   ]
  },
  {
   "cell_type": "markdown",
   "metadata": {},
   "source": [
    "Also, if there is a way for an expression to terminate, using normal order will cause the termination. In other words, <font color=\"red\">normal order</font> is the best if you want to <font color=\"red\">avoid infinite loops</font>. "
   ]
  },
  {
   "cell_type": "code",
   "execution_count": null,
   "metadata": {
    "collapsed": true
   },
   "outputs": [],
   "source": [
    "int loop() {\n",
    "  return loop();\n",
    "}\n",
    "int f(int x, int y) {\n",
    "  return x;\n",
    "}\n",
    "\n",
    "int main() {\n",
    "  return f(3, loop());\n",
    "}"
   ]
  },
  {
   "cell_type": "markdown",
   "metadata": {},
   "source": [
    "* In this case, using applicative order will cause the program to hang, because the second argument loop() will be evaluated. \n",
    "* Using normal order will terminate because the unneeded y variable will never be evaluated."
   ]
  },
  {
   "cell_type": "markdown",
   "metadata": {},
   "source": [
    "<font color=\"Red\">Though normal order is better in this respect, applicative order is the one used by most programming languages. Why?</font>"
   ]
  },
  {
   "cell_type": "markdown",
   "metadata": {},
   "source": [
    "Consider the function f (x) = x + x. \n",
    "\n",
    "To find f (4/2) <font color=\"red\">using normal order</font>, we hold off on evaluating the argument until after placing the argument in the function, so it yields\n",
    "\n",
    "f(4/2) = 4/2+4/2 = 2+2 = 4,\n",
    "\n",
    "and the division needs to be done twice. \n",
    "\n",
    "If we <font color=\"blue\">use applicative order</font>, we get \n",
    "\n",
    "f (4/2) = f (2) = 2 + 2 = 4,\n",
    "\n",
    "which requires only one division."
   ]
  },
  {
   "cell_type": "markdown",
   "metadata": {},
   "source": [
    "<font color=\"red\">Since applicative order avoids repetitive computations, it is the preferred method of evaluation in most programming languages, where short execution time is critical.</font>"
   ]
  },
  {
   "cell_type": "markdown",
   "metadata": {},
   "source": [
    "#### call-by-need"
   ]
  },
  {
   "cell_type": "markdown",
   "metadata": {},
   "source": [
    "Some functional programming languages, such as Haskell, use <font color=\"red\">call-by-need evaluation</font>, which will avoid performing unneeded computations (such as loop() above) yet will <font color=\"red\">memoize</font> the values of needed arguments (such as 4/2 above) so that <font color=\"red\">repetitive computations are avoided</font>. "
   ]
  },
  {
   "cell_type": "markdown",
   "metadata": {},
   "source": [
    "#### lazy evaluation"
   ]
  },
  {
   "cell_type": "markdown",
   "metadata": {},
   "source": [
    "This <font color=\"red\">lazy evaluation mechanism</font> is typically implemented <font color=\"red\">with thunks</font>, or <font color=\"red\">zero-argument functions</font> that freeze the evaluation of an argument until it is actually used, and futures or references to these thunks that trigger the thawing of the expression when evaluated, and keep its value for further immediate access."
   ]
  },
  {
   "cell_type": "markdown",
   "metadata": {},
   "source": [
    "# 2.4 Combinators"
   ]
  },
  {
   "cell_type": "markdown",
   "metadata": {},
   "source": [
    "#### combinator"
   ]
  },
  {
   "cell_type": "markdown",
   "metadata": {},
   "source": [
    "* Any λ calculus expression with no free variables is called a combinator.\n",
    "* Because the meaning of a λ calculus expression is dependent only on the bindings of its free variables, <font color=\"red\">combinators always have the same meaning independently of the context in which they are used</font>."
   ]
  },
  {
   "cell_type": "markdown",
   "metadata": {},
   "source": [
    "#### identity combinator"
   ]
  },
  {
   "cell_type": "markdown",
   "metadata": {},
   "source": [
    "I = λx.x"
   ]
  },
  {
   "cell_type": "markdown",
   "metadata": {},
   "source": [
    "(I 5)=(λx.x 5)⇒5."
   ]
  },
  {
   "cell_type": "markdown",
   "metadata": {},
   "source": [
    "#### application combinator"
   ]
  },
  {
   "cell_type": "markdown",
   "metadata": {},
   "source": [
    "App = λf.λx.(f x)"
   ]
  },
  {
   "cell_type": "markdown",
   "metadata": {},
   "source": [
    "and allows you to evaluate a function with an argument."
   ]
  },
  {
   "cell_type": "markdown",
   "metadata": {},
   "source": [
    "((App λx.$x^2$ ) 3)\n",
    "<br>⇒ ((λf.λx.(f x) λx.$x^2$) 3)\n",
    "<br>⇒ (λx.(λx.$x^2$ x) 3)\n",
    "<br>⇒ (λx.$x^2$ 3)\n",
    "<br>⇒ 9."
   ]
  },
  {
   "cell_type": "markdown",
   "metadata": {},
   "source": [
    "#### eta-reduction"
   ]
  },
  {
   "cell_type": "markdown",
   "metadata": {},
   "source": [
    "The application combinator can be converted to the identity combinator by eta-reduction (see section 2.6). We will see more combinators in the following sections."
   ]
  },
  {
   "cell_type": "markdown",
   "metadata": {},
   "source": [
    "# 2.5 Currying"
   ]
  },
  {
   "cell_type": "markdown",
   "metadata": {},
   "source": [
    "The currying higher-order function takes a function and returns a curried version of the function."
   ]
  },
  {
   "cell_type": "markdown",
   "metadata": {},
   "source": [
    "# 2.6 η-Conversion"
   ]
  },
  {
   "cell_type": "markdown",
   "metadata": {},
   "source": [
    "Another type of operation possible on λ calculus expressions is called η-conversion (eta-reduction when applied from left to right). We perform η-reduction using the rule\n",
    "\n",
    "λx.(E x) →(η)→ E .\n",
    "\n",
    "η-reduction can only be applied if x does not appear free in E."
   ]
  },
  {
   "cell_type": "markdown",
   "metadata": {},
   "source": [
    "Consider the expression \n",
    "\n",
    "λx.(λx.$x^2$ x). \n",
    "\n",
    "We can perform η-reduction to obtain\n",
    "\n",
    "λx.(λx.$x^2$ x) →(η)→ λx.$x^2$."
   ]
  },
  {
   "cell_type": "markdown",
   "metadata": {},
   "source": [
    "<font color=\"red\">η-reduction can be considered a program optimization.</font>"
   ]
  },
  {
   "cell_type": "markdown",
   "metadata": {},
   "source": [
    "# 2.7 Sequencing Combinator"
   ]
  },
  {
   "cell_type": "markdown",
   "metadata": {},
   "source": [
    "#### normal order sequencing combinator \n",
    "The normal order sequencing combinator is:\n",
    "\n",
    "Seq = λx.λy.(λz.y x),\n",
    "\n",
    "where z is chosen so that it does not appear free in y."
   ]
  },
  {
   "cell_type": "code",
   "execution_count": null,
   "metadata": {
    "collapsed": true
   },
   "outputs": [],
   "source": [
    "((Seq (display “hello”)) (display “world”))."
   ]
  },
  {
   "cell_type": "markdown",
   "metadata": {},
   "source": [
    "#### applicative-order sequencing combinator\n",
    "\n",
    "The applicative-order sequencing combinator can be written as follows: \n",
    "\n",
    "ASeq = λx.λy.(y x),\n",
    "\n",
    "where y is a lambda abstraction that wraps the original last expression to evaluate."
   ]
  },
  {
   "cell_type": "code",
   "execution_count": null,
   "metadata": {
    "collapsed": true
   },
   "outputs": [],
   "source": [
    "((ASeq (display “hello”)) λx.(display “world”)),"
   ]
  },
  {
   "cell_type": "markdown",
   "metadata": {},
   "source": [
    "# 2.8 Recursion Combinator"
   ]
  },
  {
   "cell_type": "markdown",
   "metadata": {},
   "source": [
    "The recursion combinator allows defining recursive computations in the λ calculus."
   ]
  },
  {
   "cell_type": "markdown",
   "metadata": {},
   "source": [
    "# 2.9 Higher-Order Programming\n",
    "* 2.9.1 Currying as a Higher-Order Function\n",
    "* 2.9.2 Numbers in the λ Calculus\n",
    "* 2.9.3 Booleans in the λ Calculus"
   ]
  },
  {
   "cell_type": "markdown",
   "metadata": {},
   "source": [
    "Most imperative programming languages, for example, Java and C + +, do not allow us to treat functions or procedures as first-class entities, for example, we cannot create and return a new function that did not exist before. A function that can deal only with primitive types (i.e., not other functions) is called a first-order function."
   ]
  },
  {
   "cell_type": "markdown",
   "metadata": {},
   "source": [
    "## 2.9.1 Currying as a Higher-Order Function"
   ]
  },
  {
   "cell_type": "markdown",
   "metadata": {},
   "source": [
    "Higher-order programming is a very powerful technique, as shown in the following Oz example."
   ]
  },
  {
   "cell_type": "markdown",
   "metadata": {},
   "source": [
    "## 2.9.2 Numbers in the λ Calculus"
   ]
  },
  {
   "cell_type": "markdown",
   "metadata": {},
   "source": [
    "The λ calculus is a Turing-complete language, that is, any computable function can be expressed in the pure λ calculus. In many of the previous examples, however, we have used numbers and conditionals."
   ]
  },
  {
   "cell_type": "markdown",
   "metadata": {},
   "source": [
    "## 2.9.3 Booleans in the λ Calculus"
   ]
  },
  {
   "cell_type": "markdown",
   "metadata": {},
   "source": [
    "Now, let us see one possible representation of booleans in the pure λ calculus"
   ]
  },
  {
   "cell_type": "markdown",
   "metadata": {
    "collapsed": true
   },
   "source": [
    "# 참고자료\n",
    "* [1] Programming Distributed Computing Systems: A Foundational Approach (MIT Press) - https://www.amazon.com/Programming-Distributed-Computing-Systems-Foundational/dp/0262018985\n",
    "* [2] (slideshare) Lambda calculus (by Diego Mendonça) - http://www.slideshare.net/DiegoMendona3/lambda-calculus-29802319\n",
    "* [3] (slideshare) Lambda calculus (by Mahsa Seifikar) - http://www.slideshare.net/MahsaSeifikar/lambda-calculus-57240548"
   ]
  }
 ],
 "metadata": {
  "kernelspec": {
   "display_name": "Python 2",
   "language": "python",
   "name": "python2"
  },
  "language_info": {
   "codemirror_mode": {
    "name": "ipython",
    "version": 2
   },
   "file_extension": ".py",
   "mimetype": "text/x-python",
   "name": "python",
   "nbconvert_exporter": "python",
   "pygments_lexer": "ipython2",
   "version": "2.7.6"
  }
 },
 "nbformat": 4,
 "nbformat_minor": 0
}
