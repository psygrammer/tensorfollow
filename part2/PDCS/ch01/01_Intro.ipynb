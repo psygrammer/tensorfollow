{
 "cells": [
  {
   "cell_type": "markdown",
   "metadata": {},
   "source": [
    "# 1 Introduction"
   ]
  },
  {
   "cell_type": "markdown",
   "metadata": {},
   "source": [
    "* 싸이그래머 / 텐서팔로우 : 파트 2 - 분산처리 프로그래밍 [1]\n",
    "* 김무성"
   ]
  },
  {
   "cell_type": "markdown",
   "metadata": {},
   "source": [
    "# Contents\n",
    "* 1.1 Motivation\n",
    "    - Why Concurrency?\n",
    "    - Why Distribution?\n",
    "    - Why Mobility?\n",
    "* 1.2 Models of Computation\n",
    "* 1.3 Programming Languages\n",
    "* 1.4 Common Concurrent Programming Examples\n",
    "    - 1.4.1 Reference Cell\n",
    "    - 1.4.2 Mutual Exclusion\n",
    "    - 1.4.3 Dining Philosophers"
   ]
  },
  {
   "cell_type": "markdown",
   "metadata": {},
   "source": [
    "# 1.1 Motivation\n",
    "* Why Concurrency?\n",
    "* Why Distribution?\n",
    "* Why Mobility?"
   ]
  },
  {
   "cell_type": "markdown",
   "metadata": {},
   "source": [
    "At the same rate of growth, by 2031, we may see a thousand fold further improvement in hardware, resulting in 1,000 plus-core processors in mobile devices, laptops, and desktops, 100-terabit-per-second-plus network backbones, and hard drives storing petabytes of data. \n",
    "\n",
    "The growing number of transistors in emerging multicore architectures can only be translated into practical software applications’ performance if software developers understand how to program concurrent systems effectively."
   ]
  },
  {
   "cell_type": "markdown",
   "metadata": {},
   "source": [
    "## Why Concurrency?"
   ]
  },
  {
   "cell_type": "markdown",
   "metadata": {},
   "source": [
    "#### Concurrency"
   ]
  },
  {
   "cell_type": "markdown",
   "metadata": {},
   "source": [
    "Concurrency can be regarded as <font color=\"red\">potential parallelism</font>. \n",
    "* Computing activities can be executed in parallel provided there are no data or control dependencies that require them to be <font color=\"red\">executed sequentially</font>. \n",
    "* However, a concurrent computer program can also be executed <font color=\"red\">on a single processor</font> by distributing its activities over time, also known as <font color=\"red\">interleaving</font>. \n",
    "* When <font color=\"red\">multiple processors</font> are used to execute a concurrent application, we say that it is a <font color=\"red\">parallel execution</font> of the concurrent program. \n",
    "* If the processors are <font color=\"red\">separated geographically</font>, we say that it is a <font color=\"red\">distributed execution</font> of the concurrent program. \n",
    "* If the <font color=\"red\">location of the activities</font> can <font color=\"red\">change dynamically</font>, we say it is a <font color=\"red\">mobile execution</font> of the concurrent program."
   ]
  },
  {
   "cell_type": "markdown",
   "metadata": {},
   "source": [
    "There are several advantages and disadvantages associated with writing concurrent computer programs. \n",
    "* Concurrent programs have the potential to execute much faster than their sequential counter parts, provided that there are enough resources to run their independent activities, and provided that the frequency and cost of communication between these activities are not significant with respect to their computation time. \n",
    "* In the best case scenario, called <font color=\"red\">massively parallel applications</font>. \n",
    "* In the worst case scenario, <font color=\"red\">subactivities have significant data and control dependencies</font>, and sequential execution represents the best execution time. \n",
    "* Most applications lie in the middle. \n",
    "    - For example, a web server may be able to service client requests in parallel, but a database service component may have to serialize writing requests for consistency."
   ]
  },
  {
   "cell_type": "markdown",
   "metadata": {},
   "source": [
    "Concurrent software also enables <font color=\"red\">better resource utilization</font>."
   ]
  },
  {
   "cell_type": "markdown",
   "metadata": {},
   "source": [
    "* While the advantages of concurrent programs are potentially significant, they also require a different way of thinking about and organizing computer programs. \n",
    "* As opposed to sequential programs, concurrent programs are typically <font color=\"red\">not deterministic</font>: \n",
    "    - Different executions of the same program can produce different results.\n"
   ]
  },
  {
   "cell_type": "markdown",
   "metadata": {},
   "source": [
    "<font color=\"red\">Programming abstractions designed to help</font> tackle the inherent <font color=\"red\">complexity of concurrent execution</font> can be misused, producing deadlocks. \n",
    "* Beyond having to consider application safety—that is, ensure data consistency—and liveness—that is, ensure computation progress—it is not always trivial to obtain high performance due to the additional resources required to schedule multiple activities and enable their communication and synchronization."
   ]
  },
  {
   "cell_type": "markdown",
   "metadata": {},
   "source": [
    "## Why Distribution?"
   ]
  },
  {
   "cell_type": "markdown",
   "metadata": {},
   "source": [
    "Distributed computing refers to computation that spreads over space and time. "
   ]
  },
  {
   "cell_type": "markdown",
   "metadata": {},
   "source": [
    "As an example, <font color=\"red\">geographically separated database</font> servers may each contain part of the distributed state of an application."
   ]
  },
  {
   "cell_type": "markdown",
   "metadata": {},
   "source": [
    "<font color=\"red\">Internet computing, web computing, grid computing, and cloud computing</font> are all forms of distributed computing."
   ]
  },
  {
   "cell_type": "markdown",
   "metadata": {},
   "source": [
    "Distributed systems are <font color=\"red\">more difficult</font> to reason about and to develop <font color=\"red\">than centralized systems</font>."
   ]
  },
  {
   "cell_type": "markdown",
   "metadata": {},
   "source": [
    "The <font color=\"red\">heterogeneity</font> inherent in geographically distributed computing infrastructures makes resource scheduling and allocation critical to provide a reasonable quality of service to application users."
   ]
  },
  {
   "cell_type": "markdown",
   "metadata": {},
   "source": [
    "<font color=\"red\">Data privacy and integrity</font> are fundamental to many applications, for example, in the health and financial industries."
   ]
  },
  {
   "cell_type": "markdown",
   "metadata": {},
   "source": [
    "## Why Mobility?"
   ]
  },
  {
   "cell_type": "markdown",
   "metadata": {},
   "source": [
    "We use mobility to refer to mobile distributed systems, which exhibit mobile code, mobile data, mobile devices, and/or mobile users."
   ]
  },
  {
   "cell_type": "markdown",
   "metadata": {},
   "source": [
    "<font color=\"red\">Mobile code</font> can refer to downloading computer programs or components from the Internet, or it can refer to applications whose components reconfigure themselves at runtime to adapt to changes in their execution environment. \n",
    "* dynamic application extensibility\n",
    "* The mobility of code enables dynamic application extensibility—for example, web browsers automatically downloading applets or plugins—to augment their behavior or to enable viewing of heterogeneous data types. \n",
    "* Mobility of code also enables distributed applications to adapt to changing network conditions."
   ]
  },
  {
   "cell_type": "markdown",
   "metadata": {},
   "source": [
    "<font color=\"red\">Mobile data</font> refers to accessing remote databases, for example as produced by sensors, and requires policies for replication, efficient access, and preservation. The mobility of data, including its potential replication, enables faster access by both human users and computer applications.\n",
    "* Data replication also enables fault tolerance.\n",
    "* Applications that produce or consume data continuously are known as <font color=\"red\">data streaming applications</font>."
   ]
  },
  {
   "cell_type": "markdown",
   "metadata": {},
   "source": [
    "<font color=\"red\">Mobile devices</font> refers to laptops, personal digital assistants, cellular phones, robots, cameras, cars, planes, and other devices that can change physical location and can become connected or disconnected at any time. \n",
    "* Typically, mobile devices are highly heterogeneous, and can have significant constraints in terms of processing speed, wireless network access, memory size, and availability (due to being powered by batteries with limited life time.)"
   ]
  },
  {
   "cell_type": "markdown",
   "metadata": {},
   "source": [
    "<font color=\"red\">mobile users</font> refers to the need of humans to access information and applications from anywhere anytime, even while traveling at different speeds and enjoying different levels of connectivity."
   ]
  },
  {
   "cell_type": "markdown",
   "metadata": {},
   "source": [
    "<font color=\"red\">Mobility enables dynamically adaptable applications, real-time streaming data analyses, and information access through heterogeneous devices and from disparate geographical locations</font>."
   ]
  },
  {
   "cell_type": "markdown",
   "metadata": {},
   "source": [
    "# 1.2 Models of Computation"
   ]
  },
  {
   "cell_type": "markdown",
   "metadata": {},
   "source": [
    "Theoretical models of computation are critical to be able to reason about properties of software, including the programming languages used to develop the software."
   ]
  },
  {
   "cell_type": "markdown",
   "metadata": {},
   "source": [
    "#### λ calculus"
   ]
  },
  {
   "cell_type": "markdown",
   "metadata": {},
   "source": [
    "* Church (1941) and Kleene created the λ calculus in the 1930s. The calculus is at the heart of functional programming languages.\n",
    "* It is useful to study sequential programming language concepts because of its high level of abstraction."
   ]
  },
  {
   "cell_type": "markdown",
   "metadata": {},
   "source": [
    "#### π calculus"
   ]
  },
  {
   "cell_type": "markdown",
   "metadata": {},
   "source": [
    "* Milner et al. (1992) created the π calculus, which models concurrent compu- tation in terms of communicating processes, which can dynamically change their communication topology.\n",
    "* Milner et al. have developed a theory of equivalence of processes that uses a technique called <font color=\"red\">bisimulation</font>, whereby two processes are considered equivalent if they can indefinitely mimic each other’s interactions with any environment."
   ]
  },
  {
   "cell_type": "markdown",
   "metadata": {},
   "source": [
    "#### actor model"
   ]
  },
  {
   "cell_type": "markdown",
   "metadata": {},
   "source": [
    "* Hewitt et al. (1973) created the actor model of concurrent computation in the 1970s. Agha (1986) refined it to model open distributed systems.\n",
    "* Actors model concurrent units of computation, which communicate by asynchronous and guaranteed message passing. \n",
    "* Agha et al. (1997) extended the call-by-value λ calculus with primitives for actor creation and communication, and they provided an operational semantics for the actor model."
   ]
  },
  {
   "cell_type": "markdown",
   "metadata": {},
   "source": [
    "#### join calculus"
   ]
  },
  {
   "cell_type": "markdown",
   "metadata": {},
   "source": [
    "Fournet and Gonthier (1996) created the join calculus to model concurrent computation as chemical processes, whereby complex expressions can appear as the result of combining simpler expressions according to a dynamic set of bidirectional rewriting rules."
   ]
  },
  {
   "cell_type": "markdown",
   "metadata": {},
   "source": [
    "#### ambient calculus"
   ]
  },
  {
   "cell_type": "markdown",
   "metadata": {},
   "source": [
    "* Cardelli and Gordon (2000) created the theory of mobile ambients to model mobile code, devices, and users. \n",
    "* The ambient calculus defines a hierarchical structure of ambients that contain processes and other ambients. "
   ]
  },
  {
   "cell_type": "markdown",
   "metadata": {},
   "source": [
    "# 1.3 Programming Languages"
   ]
  },
  {
   "cell_type": "markdown",
   "metadata": {},
   "source": [
    "Programming languages have coevolved significantly with new theories of com- putation and hardware improvements. We can categorize programming languages according to their programming models or paradigms as imperative, object-oriented, functional, logical, or multiparadigm.\n",
    "* Imperative programming languages\n",
    "* Object-oriented programming languages \n",
    "* Functional programming languages \n",
    "* Concurrent programming, which encompasses developing parallel, distribut- ed, and mobile systems, has been mostly an afterthought in programming language design."
   ]
  },
  {
   "cell_type": "markdown",
   "metadata": {},
   "source": [
    "We will focus on programming languages that follow well-founded theories of concurrent computation. While the programming languages we will cover may not be the most popular or widely used in industry today, they serve the educational purpose of helping students think concurrently from the beginning and design sys- tems from first principles. "
   ]
  },
  {
   "cell_type": "markdown",
   "metadata": {},
   "source": [
    "Processes have been a key abstraction used by operating systems to isolate applications from one another when running on the same computer. "
   ]
  },
  {
   "cell_type": "markdown",
   "metadata": {},
   "source": [
    "Unfortunately, processes have not received significant attention from the programming language community:"
   ]
  },
  {
   "cell_type": "markdown",
   "metadata": {},
   "source": [
    "We study a programming language that follows the π calculus model and adds the notion of types to interprocess communication channels: Pict"
   ]
  },
  {
   "cell_type": "markdown",
   "metadata": {},
   "source": [
    "Actor-oriented programming languages"
   ]
  },
  {
   "cell_type": "markdown",
   "metadata": {},
   "source": [
    "A programming language based on the join calculus is JoCaml, which extends OCaml with join patterns "
   ]
  },
  {
   "cell_type": "markdown",
   "metadata": {},
   "source": [
    "In this book <font color=\"red\">we will use Pict, Nomadic Pict, SALSA, and JoCaml</font> to illustrate practical aspects of developing concurrent, distributed, and mobile systems. These languages follow respectively the π calculus, the actor model, and the join calculus theories."
   ]
  },
  {
   "cell_type": "markdown",
   "metadata": {},
   "source": [
    "# 1.4 Common Concurrent Programming Examples\n",
    "* 1.4.1 Reference Cell\n",
    "* 1.4.2 Mutual Exclusion\n",
    "* 1.4.3 Dining Philosophers"
   ]
  },
  {
   "cell_type": "markdown",
   "metadata": {},
   "source": [
    "For each theory of concurrent computation and for each concurrent programming language, we will illustrate how to encode the same three programs: a reference cell, a mutual exclusion problem, and the famous dining philosophers. "
   ]
  },
  {
   "cell_type": "markdown",
   "metadata": {},
   "source": [
    "## 1.4.1 Reference Cell"
   ]
  },
  {
   "cell_type": "markdown",
   "metadata": {},
   "source": [
    "A reference cell models stateful computation, \n",
    "* i.e., <font color=\"red\">a cell contains mutable state</font>. A simple cell can be created, updated, and queried by other concurrent computations.\n",
    "* A reference cell is perhaps the simplest stateful concurrent program that illustrates issues such as nondeterminism: For example, if both an update and a query are concurrently issued, the order of request processing will determine the result received by the querying process."
   ]
  },
  {
   "cell_type": "markdown",
   "metadata": {},
   "source": [
    "## 1.4.2 Mutual Exclusion"
   ]
  },
  {
   "cell_type": "markdown",
   "metadata": {},
   "source": [
    "* Mutual exclusion refers to the need of two or more concurrent computations to coordinate and avoid executing at the same time some critical region of code. \n",
    "* Mutual exclusion is perhaps the simplest illustration of the need for coordination of concurrent activities. \n",
    "* A useful abstraction for guaranteeing mutual exclusion is the notion of <font color=\"red\">semaphores</font>."
   ]
  },
  {
   "cell_type": "markdown",
   "metadata": {},
   "source": [
    "## 1.4.3 Dining Philosophers"
   ]
  },
  {
   "cell_type": "markdown",
   "metadata": {},
   "source": [
    "A typical example of the complexities of concurrent computation is the famous dining philosophers scenario. Consider n philosophers, Ph1 , . . . , Phn−1 , dining at a round table containing n chopsticks ch1 , . . . , chn−1 where each chopstick is shared by two consecutive philosophers "
   ]
  },
  {
   "cell_type": "markdown",
   "metadata": {},
   "source": [
    "While each philosopher’s algorithm seems to make sense from an individual sequential perspective, the group’s concurrent behavior has the potential for <font color=\"red\">deadock</font> :"
   ]
  },
  {
   "cell_type": "markdown",
   "metadata": {},
   "source": [
    "This well-known example highlights the potential for deadlock in concurrent systems with shared resources."
   ]
  },
  {
   "cell_type": "markdown",
   "metadata": {},
   "source": [
    "<img src=\"figures/cap1.1.png\" width=600 />"
   ]
  },
  {
   "cell_type": "markdown",
   "metadata": {},
   "source": [
    "# 참고자료\n",
    "* [1] Programming Distributed Computing Systems: A Foundational Approach (MIT Press) - https://www.amazon.com/Programming-Distributed-Computing-Systems-Foundational/dp/0262018985"
   ]
  }
 ],
 "metadata": {
  "kernelspec": {
   "display_name": "Python 2",
   "language": "python",
   "name": "python2"
  },
  "language_info": {
   "codemirror_mode": {
    "name": "ipython",
    "version": 2
   },
   "file_extension": ".py",
   "mimetype": "text/x-python",
   "name": "python",
   "nbconvert_exporter": "python",
   "pygments_lexer": "ipython2",
   "version": "2.7.6"
  }
 },
 "nbformat": 4,
 "nbformat_minor": 0
}
